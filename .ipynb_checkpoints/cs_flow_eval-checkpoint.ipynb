{
 "cells": [
  {
   "cell_type": "code",
   "execution_count": null,
   "metadata": {},
   "outputs": [],
   "source": [
    "import os\n",
    "import sys\n",
    "sys.path.append('/home/edshkim98/synapse/one_class/anomalib/')\n",
    "import math\n",
    "import glob\n",
    "import numpy as np\n",
    "import torch\n",
    "import matplotlib.pyplot as plt\n",
    "from sklearn import metrics\n",
    "from sklearn.metrics import roc_auc_score\n",
    "from tqdm import tqdm\n",
    "import config as c\n",
    "from model import get_cs_flow_model, save_model, FeatureExtractor, nf_forward\n",
    "from utils import *\n",
    "import time\n",
    "import glob\n",
    "from sklearn import metrics\n",
    "from PIL import Image\n",
    "import cv2\n",
    "import torch.nn as nn\n",
    "import torch.nn.functional as F\n",
    "from typing import List, Tuple, Union\n",
    "from kornia.filters import gaussian_blur2d\n",
    "from torch import Tensor\n",
    "\n",
    "\n",
    "from anomalib.pre_processing.transforms import Denormalize\n",
    "from anomalib.utils.metrics import (\n",
    "    AdaptiveThreshold,\n",
    "    AnomalibMetricCollection,\n",
    "    AnomalyScoreDistribution,\n",
    "    MinMax,\n",
    ")\n",
    "from efficientnet_pytorch import EfficientNet\n",
    "from albumentations.pytorch import ToTensorV2\n",
    "import timm \n",
    "import time\n",
    "from collections import OrderedDict\n",
    "import shutil"
   ]
  },
  {
   "cell_type": "code",
   "execution_count": null,
   "metadata": {},
   "outputs": [],
   "source": [
    "import numpy as np\n",
    "import torch\n",
    "from tqdm import tqdm\n",
    "import config as c\n",
    "from model import FeatureExtractor\n",
    "from utils import *\n",
    "import os\n"
   ]
  },
  {
   "cell_type": "markdown",
   "metadata": {},
   "source": [
    "# AUROC Curve"
   ]
  },
  {
   "cell_type": "code",
   "execution_count": null,
   "metadata": {},
   "outputs": [],
   "source": [
    "fpr = np.load('fpr.npy')\n",
    "tpr = np.load('tpr.npy')\n",
    "\n",
    "roc = metrics.auc(fpr, tpr)\n",
    "plt.plot(fpr,tpr)\n",
    "idx = np.where(tpr==1)[0][0]\n",
    "plt.scatter(fpr[idx],tpr[idx],s=50)\n",
    "plt.title('Eff B5: Coupling block 4 Warm Restart')\n",
    "\n",
    "print(\"Image AUC: {} FPR: {}\".format(roc, fpr[idx]))"
   ]
  },
  {
   "cell_type": "markdown",
   "metadata": {},
   "source": [
    "# Load model"
   ]
  },
  {
   "cell_type": "code",
   "execution_count": null,
   "metadata": {
    "scrolled": true
   },
   "outputs": [],
   "source": [
    "model = get_cs_flow_model()\n",
    "pretrained = torch.load(os.getcwd()+\"/models/smt/cs_flow_couplingx4_restart.pth\")\n",
    "model.load_state_dict(pretrained)"
   ]
  },
  {
   "cell_type": "code",
   "execution_count": null,
   "metadata": {},
   "outputs": [],
   "source": [
    "fe = FeatureExtractor(c)"
   ]
  },
  {
   "cell_type": "markdown",
   "metadata": {},
   "source": [
    "# Load data"
   ]
  },
  {
   "cell_type": "code",
   "execution_count": null,
   "metadata": {},
   "outputs": [],
   "source": [
    "trainset = SynapseData(c, c.dataset_path+'/'+c.class_name+'/train', train=True)\n",
    "testset = SynapseData(c, c.dataset_path+'/'+c.class_name+'/test', train=False, ret_path=True)\n",
    "#trainset, testset = load_datasets(c.dataset_path, c.class_name)\n",
    "train_loader, test_loader = make_dataloaders(trainset, testset)"
   ]
  },
  {
   "cell_type": "code",
   "execution_count": null,
   "metadata": {},
   "outputs": [],
   "source": [
    "data = next(iter(test_loader))\n",
    "len(data)"
   ]
  },
  {
   "cell_type": "code",
   "execution_count": null,
   "metadata": {},
   "outputs": [],
   "source": [
    "model.to(c.device)\n",
    "fe.to(c.device)\n",
    "model.eval()\n",
    "fe.eval();"
   ]
  },
  {
   "cell_type": "markdown",
   "metadata": {},
   "source": [
    "# Calculate optimal threshold"
   ]
  },
  {
   "cell_type": "code",
   "execution_count": null,
   "metadata": {},
   "outputs": [],
   "source": [
    "def g_means(tpr, fpr):\n",
    "    return math.sqrt(tpr * (1-fpr))\n",
    "\n",
    "times = []\n",
    "test_z = []\n",
    "test_labels = list()\n",
    "with torch.no_grad():\n",
    "    for i, data in enumerate(tqdm(test_loader)):\n",
    "        inputs, labels, _ = data\n",
    "        inputs = inputs.cuda()\n",
    "        start = time.time()\n",
    "        if not c.pre_extracted:\n",
    "            inputs = fe(inputs)\n",
    "        z, jac = nf_forward(model, inputs)\n",
    "        loss = get_loss(z, jac)\n",
    "        times.append(time.time()-start)\n",
    "\n",
    "        z_concat = t2np(concat_maps(z))\n",
    "        score = np.std(z_concat ** 2, axis=(1, 2))\n",
    "        test_z.append(score)\n",
    "        test_labels.append(t2np(labels))\n",
    "            \n",
    "    print(\"Inf TIme: {}\".format(np.mean(np.array(times))))\n",
    "    \n",
    "    test_labels = np.concatenate(test_labels)\n",
    "    is_anomaly = np.array([0 if l == 0 else 1 for l in test_labels])\n",
    "\n",
    "    anomaly_score = np.concatenate(test_z, axis=0)\n",
    "    \n",
    "    print(anomaly_score.shape, is_anomaly.shape)\n",
    "    \n",
    "    fpr, tpr, thresholds = metrics.roc_curve(is_anomaly, anomaly_score)\n",
    "\n",
    "    roc = roc_auc_score(is_anomaly, anomaly_score)\n",
    "    \n",
    "    #Equation to calculate optimal threshold\n",
    "    lst = []\n",
    "    for i in range(len(tpr)):\n",
    "        lst.append(g_means(tpr[i],fpr[i]))\n",
    "    optimal_idx = np.argmax(np.array(lst))\n",
    "    optimal_thresh = thresholds[optimal_idx]\n",
    "        \n",
    "print(\"ROC: {}\".format(roc))\n",
    "\n",
    "plt.plot(fpr,tpr)\n",
    "idx = np.where(tpr==1)[0][0]\n",
    "plt.scatter(fpr[idx],tpr[idx],s=50)\n",
    "idx2 = optimal_idx\n",
    "plt.scatter(fpr[idx2],tpr[idx2],s=50)\n",
    "plt.title('EffB5')\n",
    "\n",
    "print(\"Image AUC: {} FPR: {}\".format(roc, fpr[idx]))"
   ]
  },
  {
   "cell_type": "markdown",
   "metadata": {},
   "source": [
    "# Calculate heatmap"
   ]
  },
  {
   "cell_type": "code",
   "execution_count": null,
   "metadata": {},
   "outputs": [],
   "source": [
    "def gen_anomaly_map(z, jac, optimal_thresh):\n",
    "    flow_maps: List[Tensor] = []\n",
    "    flow_maps2: List[Tensor] = []  \n",
    "    log_like: List[Tensor] = []   \n",
    "    sigma=10\n",
    "    cnt = 0\n",
    "    for (hidden_variable, jacobian) in zip(z, jac):\n",
    "        cnt+=1\n",
    "        if (cnt == 1):\n",
    "            continue\n",
    "        log_prob = -torch.mean(hidden_variable**2, dim=1, keepdim=True) * 0.5\n",
    "        prob = torch.exp(log_prob)\n",
    "        flow_map = F.interpolate(\n",
    "            input=-prob,\n",
    "            size=512,\n",
    "            mode=\"bilinear\",\n",
    "            align_corners=False,\n",
    "        )\n",
    "        flow_maps.append(flow_map)\n",
    "        \n",
    "    \n",
    "    flow_maps = torch.stack(flow_maps, dim=-1) #torch.Size([1, 1, 256, 256, 3])\n",
    "    anomaly_map = torch.mean(flow_maps, dim=-1) - optimal_thresh\n",
    "    #anomaly_map = (anomaly_map - anomaly_map.min())/ (anomaly_map.max() - anomaly_map.min())\n",
    "    \n",
    "    z_concat = t2np(concat_maps(z))\n",
    "    image_anomaly_map = torch.max(anomaly_map)#np.mean(z_concat ** 2, axis=(1, 2))\n",
    "\n",
    "    kernel_size = 2 * int(4.0 * sigma + 0.5) + 1\n",
    "    anomaly_map = gaussian_blur2d(anomaly_map, (kernel_size, kernel_size), sigma=(sigma, sigma)).cpu()\n",
    "    \n",
    "    return anomaly_map.cpu(), image_anomaly_map\n",
    "\n",
    "def eval(test_loader, model, threshold):\n",
    "    \n",
    "    device = torch.device('cuda:0' if torch.cuda.is_available() else 'cpu')\n",
    "    outputs = []\n",
    "    cnt = 0\n",
    "    with torch.no_grad():\n",
    "        for i, data in enumerate(test_loader):\n",
    "            output = {}\n",
    "            inputs, labels, _ = data\n",
    "            inputs = inputs.cuda()\n",
    "            if not c.pre_extracted:\n",
    "                inputs2 = fe(inputs)\n",
    "                \n",
    "            z, jac = nf_forward(model, inputs2)\n",
    "            anomaly_maps, _ = gen_anomaly_map(z, jac, threshold)\n",
    "            z_concat = t2np(concat_maps(z))\n",
    "            anomaly_score = np.std(z_concat ** 2, axis=(1, 2))\n",
    "            \n",
    "            output[\"pred_scores\"] = anomaly_score\n",
    "            output[\"label\"] = labels[0].cpu()\n",
    "            \n",
    "            if output['pred_scores'] > threshold:\n",
    "                output['pred'] = torch.tensor(1)\n",
    "            else:\n",
    "                output['pred'] = torch.tensor(0)\n",
    "            \n",
    "            \n",
    "            if output['pred'] == output['label']:\n",
    "                if output['label'] == 1:\n",
    "                    fname = str(cnt)\n",
    "                    cnt+=1\n",
    "                    inputs = inputs.cpu()\n",
    "                    img = inputs[0].permute(1,2,0)\n",
    "                    fig = plt.figure()\n",
    "                    plt.imshow(img, cmap='gray')\n",
    "                    plt.imshow(anomaly_maps[0][0], alpha=0.8)\n",
    "                    plt.show()\n",
    "    #                 fig.savefig('/home/edshkim98/synapse/one_class/cs-flow2/cs-flow/figures/tmfp/'+fname+'_heatmap.png', dpi=fig.dpi)\n",
    "                    fig = plt.figure()\n",
    "                    plt.imshow(Denormalize()(inputs[0]))\n",
    "                    plt.show()\n",
    "    #                 fig.savefig('/home/edshkim98/synapse/one_class/cs-flow2/cs-flow/figures/tmfp/'+fname+'.png', dpi=fig.dpi)\n",
    "            else:\n",
    "                continue\n",
    "                \n",
    "eval(test_loader, model, optimal_thresh)"
   ]
  },
  {
   "cell_type": "code",
   "execution_count": null,
   "metadata": {},
   "outputs": [],
   "source": []
  }
 ],
 "metadata": {
  "kernelspec": {
   "display_name": "env2",
   "language": "python",
   "name": "myvenv"
  },
  "language_info": {
   "codemirror_mode": {
    "name": "ipython",
    "version": 3
   },
   "file_extension": ".py",
   "mimetype": "text/x-python",
   "name": "python",
   "nbconvert_exporter": "python",
   "pygments_lexer": "ipython3",
   "version": "3.7.8"
  }
 },
 "nbformat": 4,
 "nbformat_minor": 4
}
